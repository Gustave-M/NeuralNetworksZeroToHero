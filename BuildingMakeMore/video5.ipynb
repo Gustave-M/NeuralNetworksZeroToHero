{
 "cells": [
  {
   "cell_type": "markdown",
   "id": "dcae5c75",
   "metadata": {},
   "source": [
    "ok, refaire l'exercie de dérivation à la main, surtout les matrices\n",
    "\n",
    "2 calcul de variance, biaisé pour training, non-biaisé pour exploitation"
   ]
  }
 ],
 "metadata": {
  "language_info": {
   "name": "python"
  }
 },
 "nbformat": 4,
 "nbformat_minor": 5
}
