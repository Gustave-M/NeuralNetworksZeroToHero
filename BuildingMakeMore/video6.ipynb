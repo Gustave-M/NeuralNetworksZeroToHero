{
 "cells": [
  {
   "cell_type": "markdown",
   "id": "e3bbd5e5",
   "metadata": {},
   "source": [
    "wavenet\n",
    "12min"
   ]
  },
  {
   "cell_type": "markdown",
   "id": "ecb6bf0b",
   "metadata": {},
   "source": [
    "L'idée c'est de prendre plus que les 3 dernier charactère, mais pas avec le même poids\n"
   ]
  }
 ],
 "metadata": {
  "language_info": {
   "name": "python"
  }
 },
 "nbformat": 4,
 "nbformat_minor": 5
}
